{
 "cells": [
  {
   "cell_type": "code",
   "execution_count": 1,
   "id": "69de6f18",
   "metadata": {},
   "outputs": [
    {
     "name": "stderr",
     "output_type": "stream",
     "text": [
      "/Users/aadi/Downloads/Personal/langchain-experimentation/.venv/lib/python3.12/site-packages/tqdm/auto.py:21: TqdmWarning: IProgress not found. Please update jupyter and ipywidgets. See https://ipywidgets.readthedocs.io/en/stable/user_install.html\n",
      "  from .autonotebook import tqdm as notebook_tqdm\n",
      "/Users/aadi/Downloads/Personal/langchain-experimentation/.venv/lib/python3.12/site-packages/langsmith/client.py:272: LangSmithMissingAPIKeyWarning: API key must be provided when using hosted LangSmith API\n",
      "  warnings.warn(\n"
     ]
    },
    {
     "name": "stdout",
     "output_type": "stream",
     "text": [
      "\n",
      "\n",
      "\u001b[1m> Entering new AgentExecutor chain...\u001b[0m\n",
      "\u001b[32;1m\u001b[1;3m\n",
      "Invoking: `rate_my_professor_info` with `{'professor_query': 'Jon Reifschneider'}`\n",
      "\n",
      "\n",
      "\u001b[0m\u001b[33;1m\u001b[1;3m{'name': 'John Schafer', 'department': 'Classics', 'rating': '5.0', 'would_take_again': '100%', 'num_ratings': '5'}\u001b[0m\u001b[32;1m\u001b[1;3mProfessor Jon Reifschneider has a rating of 5.0 based on 5 student ratings. Additionally, 100% of students indicated that they would take him again.\u001b[0m\n",
      "\n",
      "\u001b[1m> Finished chain.\u001b[0m\n"
     ]
    },
    {
     "data": {
      "text/plain": [
       "{'input': 'What is the rating of professor Jon Reifschneider?',\n",
       " 'output': 'Professor Jon Reifschneider has a rating of 5.0 based on 5 student ratings. Additionally, 100% of students indicated that they would take him again.',\n",
       " 'intermediate_steps': [(ToolAgentAction(tool='rate_my_professor_info', tool_input={'professor_query': 'Jon Reifschneider'}, log=\"\\nInvoking: `rate_my_professor_info` with `{'professor_query': 'Jon Reifschneider'}`\\n\\n\\n\", message_log=[AIMessageChunk(content='', additional_kwargs={'tool_calls': [{'index': 0, 'id': 'call_YBj1gmDNREuR56ZkfC0UZRJl', 'function': {'arguments': '{\"professor_query\":\"Jon Reifschneider\"}', 'name': 'rate_my_professor_info'}, 'type': 'function'}]}, response_metadata={'finish_reason': 'tool_calls', 'model_name': 'gpt-4o-mini-2024-07-18', 'system_fingerprint': 'fp_34a54ae93c'}, id='run--85a8dfe7-254a-4f5b-b1a3-02b5eec37178', tool_calls=[{'name': 'rate_my_professor_info', 'args': {'professor_query': 'Jon Reifschneider'}, 'id': 'call_YBj1gmDNREuR56ZkfC0UZRJl', 'type': 'tool_call'}], tool_call_chunks=[{'name': 'rate_my_professor_info', 'args': '{\"professor_query\":\"Jon Reifschneider\"}', 'id': 'call_YBj1gmDNREuR56ZkfC0UZRJl', 'index': 0, 'type': 'tool_call_chunk'}])], tool_call_id='call_YBj1gmDNREuR56ZkfC0UZRJl'),\n",
       "   {'name': 'John Schafer',\n",
       "    'department': 'Classics',\n",
       "    'rating': '5.0',\n",
       "    'would_take_again': '100%',\n",
       "    'num_ratings': '5'})]}"
      ]
     },
     "execution_count": 1,
     "metadata": {},
     "output_type": "execute_result"
    }
   ],
   "source": [
    "from langchain.agents import create_openai_tools_agent, AgentExecutor\n",
    "from langchain_openai import ChatOpenAI\n",
    "from tools.finalTools import tools as available_tools\n",
    "\n",
    "# Use the standard React prompt from LangChain hub\n",
    "from langchain import hub\n",
    "\n",
    "prompt = hub.pull(\"hwchase17/openai-functions-agent\")\n",
    "llm = ChatOpenAI(model='gpt-4o-mini')\n",
    "tools = available_tools\n",
    "\n",
    "agent = create_openai_tools_agent(prompt=prompt, llm=llm, tools=available_tools)\n",
    "agent_executor = AgentExecutor(agent=agent, tools=available_tools, verbose=True, handle_parsing_errors=True, max_iterations=5, return_intermediate_steps=True)\n",
    "\n",
    "agent_executor.invoke({\"input\":\"What is the rating of professor Jon Reifschneider?\"})"
   ]
  },
  {
   "cell_type": "code",
   "execution_count": 2,
   "id": "dfbf9cdd",
   "metadata": {},
   "outputs": [
    {
     "data": {
      "text/plain": [
       "[StructuredTool(name='get_current_date', description='**EVENTS TOOL**: Find current and upcoming Duke campus events.\\n\\n **PREREQUISITE**: MUST call get_current_date first to understand current date context.\\n\\n **Use when:** Query mentions:\\n - \"events\", \"seminars\", \"workshops\", \"conferences\"\\n - \"this week/weekend\", \"upcoming\", \"happening now\"\\n - \"what\\'s going on at Duke\"\\n\\n **Required workflow:**\\n 1. First call get_current_date() to get current date/time\\n 2. Then call get_events() with enhanced query including date context\\n\\n **Query should include date context like:**\\n - \"events this weekend\" (when today is Friday June 13, 2025)\\n - \"events on Friday June 13, 2025\" (for today\\'s events)\\n - \"events from June 13-19, 2025\" (for this week)\\n\\n Returns: Event name, date, time, location, description\\n\\n Example workflow:\\n 1. get_current_date() → \"Today is Friday, June 13, 2025\"\\n 2. get_events(\"events this weekend starting June 14-15, 2025\")', args_schema=<class 'langchain_core.utils.pydantic.get_current_date'>, func=<function get_current_date at 0x10ddf6b60>),\n",
       " StructuredTool(name='mem_search', description='**PRIMARY TOOL** for Master of Engineering Management (MEM) program information.\\n\\nUse this FIRST for any MEM-related queries before trying other tools.\\n\\nCovers:\\n- MEM program structure, curriculum, specializations\\n- MEM admissions requirements and process\\n- MEM-specific faculty and courses\\n- MEM career outcomes and industry connections\\n\\n**Use when:** Query mentions \"MEM\", \"Master of Engineering Management\", or \"engineering management\"\\n**Don\\'t use for:** General Pratt info, AIPI program, or non-MEM engineering programs\\n\\nExample: \"What specializations does the MEM program offer?\"', args_schema=<class 'langchain_core.utils.pydantic.mem_search'>, func=<function mem_search at 0x10eb01d00>),\n",
       " StructuredTool(name='pratt_search', description='**GENERAL TOOL** for Pratt School of Engineering information (excluding MEM/AIPI specifics).\\n\\nUse for:\\n- Overview of ALL Pratt engineering programs (MEng, MS, PhD)\\n- General Pratt admissions, policies, facilities\\n- Cross-program information and comparisons\\n- Pratt-wide events, research centers, initiatives\\n\\n**Use when:** Query is about Pratt generally or non-MEM/AIPI engineering programs\\n**Don\\'t use for:** MEM-specific details (use mem_search) or AIPI-specific details (use get_AIPI_details)\\n\\nExample: \"What engineering master\\'s programs does Pratt offer?\"', args_schema=<class 'langchain_core.utils.pydantic.pratt_search'>, func=<function pratt_search at 0x10f8aa020>),\n",
       " StructuredTool(name='get_courses', description='**COURSE LISTING TOOL**: Get all available courses for a specific subject/department.\\n\\n**Required for AIPI queries**: Always use this when asked about AIPI courses or curriculum.\\n\\nCommon subjects: AIPI, ECE, ME, CEE, BME, CS, MATH, STA\\n\\n**Use when:** \\n- \"What courses are in [subject]?\"\\n- \"Show me AIPI curriculum\"\\n- Exploring course options for a department\\n\\n**Use before get_course_details**: Get the list first, then get specific course details\\n\\nExample: get_courses(\"AIPI\") for AIPI program courses', args_schema=<class 'langchain_core.utils.pydantic.get_courses'>, func=<function get_courses at 0x10f8aaa20>),\n",
       " StructuredTool(name='get_course_details', description='**SPECIFIC COURSE TOOL**: Get detailed information about ONE specific course.\\n\\nParameters:\\n- subject: Department code (e.g., \"ECE\", \"AIPI\", \"CS\")\\n- course_identifier: Course number (e.g., \"590\") OR course title\\n\\nReturns: Description, instructor, prerequisites, schedule, credits\\n\\n**Use when:** User asks about a specific course by number or name\\n**Use after get_courses**: First get course list, then get specific details\\n\\nExample: get_course_details(\"ECE\", \"590\") or get_course_details(\"AIPI\", \"Machine Learning\")', args_schema=<class 'langchain_core.utils.pydantic.get_course_details'>, func=<function get_course_details at 0x10f8aa7a0>),\n",
       " StructuredTool(name='get_events', description='**EVENTS TOOL**: Find current and upcoming Duke campus events.\\n\\n**Use when:** Query mentions:\\n- \"events\", \"seminars\", \"workshops\", \"conferences\"\\n- \"this week/weekend\", \"upcoming\", \"happening now\"\\n- \"what\\'s going on at Duke\"\\n\\nReturns: Event name, date, time, location, description\\n\\nExample: \"What events are happening this weekend at Duke?\"', args_schema=<class 'langchain_core.utils.pydantic.get_events'>, func=<function get_events at 0x10f8a9f80>),\n",
       " StructuredTool(name='get_AIPI_details', description='**PRIMARY TOOL** for Artificial Intelligence for Product Innovation (AIPI) program.\\n\\n**Use this FIRST** for any AIPI-related queries before other tools.\\n\\nComprehensive coverage:\\n- AIPI program overview, curriculum structure\\n- AIPI admissions requirements and process  \\n- AIPI faculty profiles and research areas\\n- AIPI courses, projects, and career outcomes\\n\\n**Use when:** Query mentions \"AIPI\", \"Artificial Intelligence for Product Innovation\", or AI master\\'s program\\n**Also use get_courses(\"AIPI\")** for detailed course listings\\n\\nExample: \"Tell me about the AIPI program curriculum\"', args_schema=<class 'langchain_core.utils.pydantic.get_AIPI_details'>, func=<function get_AIPI_details at 0x10f8ab560>)]"
      ]
     },
     "execution_count": 2,
     "metadata": {},
     "output_type": "execute_result"
    }
   ],
   "source": [
    "tools"
   ]
  },
  {
   "cell_type": "code",
   "execution_count": null,
   "id": "39002274",
   "metadata": {},
   "outputs": [
    {
     "name": "stdout",
     "output_type": "stream",
     "text": [
      "['get_current_date', 'mem_search', 'pratt_search', 'get_courses', 'get_course_details', 'get_events', 'rate_my_professor_info', 'get_AIPI_details', 'web_search', 'final_answer']\n",
      "['**DATE TOOL**: Get current date and time information for Duke University context.\\n\\n**Use when:** Query mentions:\\n- \"today\", \"now\", \"current date/time\"\\n- \"this week\", \"this semester\", \"academic year\"\\n- \"what day is it\", \"when is it now\"\\n- Academic calendar context needed\\n\\nReturns: Current date, time, academic year, semester estimation\\n\\nExample: \"What\\'s today\\'s date?\" or \"What semester are we in now?\"', '**PRIMARY TOOL** for Master of Engineering Management (MEM) program information.\\n\\nUse this FIRST for any MEM-related queries before trying other tools.\\n\\nCovers:\\n- MEM program structure, curriculum, specializations\\n- MEM admissions requirements and process\\n- MEM-specific faculty and courses\\n- MEM career outcomes and industry connections\\n\\n**Use when:** Query mentions \"MEM\", \"Master of Engineering Management\", or \"engineering management\"\\n**Don\\'t use for:** General Pratt info, AIPI program, or non-MEM engineering programs\\n\\nExample: \"What specializations does the MEM program offer?\"', '**GENERAL TOOL** for Pratt School of Engineering information (excluding MEM/AIPI specifics).\\n\\nUse for:\\n- Overview of ALL Pratt engineering programs (MEng, MS, PhD)\\n- General Pratt admissions, policies, facilities\\n- Cross-program information and comparisons\\n- Pratt-wide events, research centers, initiatives\\n\\n**Use when:** Query is about Pratt generally or non-MEM/AIPI engineering programs\\n**Don\\'t use for:** MEM-specific details (use mem_search) or AIPI-specific details (use get_AIPI_details)\\n\\nExample: \"What engineering master\\'s programs does Pratt offer?\"', '**COURSE LISTING TOOL**: Get all available courses for a specific subject/department.\\n\\n**Required for AIPI queries**: Always use this when asked about AIPI courses or curriculum.\\n\\nCommon subjects: AIPI, ECE, ME, CEE, BME, CS, MATH, STA\\n\\n**Use when:** \\n- \"What courses are in [subject]?\"\\n- \"Show me AIPI curriculum\"\\n- Exploring course options for a department\\n\\n**Use before get_course_details**: Get the list first, then get specific course details\\n\\nExample: get_courses(\"AIPI\") for AIPI program courses', '**SPECIFIC COURSE TOOL**: Get detailed information about ONE specific course.\\n\\nParameters:\\n- subject: Department code (e.g., \"ECE\", \"AIPI\", \"CS\")\\n- course_identifier: Course number (e.g., \"590\") OR course title\\n\\nReturns: Description, instructor, prerequisites, schedule, credits\\n\\n**Use when:** User asks about a specific course by number or name\\n**Use after get_courses**: First get course list, then get specific details\\n\\nExample: get_course_details(\"ECE\", \"590\") or get_course_details(\"AIPI\", \"Machine Learning\")', \"**EVENTS TOOL**: Uses GPT to extract filters from a user's query,\\nthen fetches events from the Duke API, and finally uses GPT again to summarize the relevant events.\\n\\nReturns a natural language summary of filtered events.\", '**PROFESSOR RATINGS TOOL**: Get student ratings and reviews from RateMyProfessors.\\n\\n**Use when:** User asks about:\\n- Professor ratings, reviews, or student opinions\\n- Teaching quality, difficulty, or student feedback\\n- \"What do students think about [professor]?\"\\n\\n**Don\\'t use for:** \\n- Basic professor info (use appropriate program tool first)\\n- Research interests or academic background\\n\\n**Important**: Get professor\\'s full name from program tools first if needed\\n\\nExample: rate_my_professor_info(\"Brinnae Bent\")', '**PRIMARY TOOL** for Artificial Intelligence for Product Innovation (AIPI) program.\\n\\n**Use this FIRST** for any AIPI-related queries before other tools.\\n\\nComprehensive coverage:\\n- AIPI program overview, curriculum structure\\n- AIPI admissions requirements and process  \\n- AIPI faculty profiles and research areas\\n- AIPI courses, projects, and career outcomes\\n\\n**Use when:** Query mentions \"AIPI\", \"Artificial Intelligence for Product Innovation\", or AI master\\'s program\\n**Also use get_courses(\"AIPI\")** for detailed course listings\\n\\nExample: \"Tell me about the AIPI program curriculum\"', '**FALLBACK TOOL**: Search the web for Duke information not covered by specialized tools.\\n\\n**Use as LAST RESORT when:**\\n- Specialized tools don\\'t have sufficient information\\n- Query is about very recent developments or news\\n- Looking for student organizations, clubs, or activities\\n- Seeking information about policies not in databases\\n- Need current/real-time information\\n\\n**Don\\'t use first**: Always try relevant specialized tools before web search\\n\\nExample: \"What AI student clubs exist at Duke?\" (after other tools don\\'t provide this)', '**REQUIRED FINAL STEP**: Provide the complete response to the user.\\n\\nThis tool MUST be called to deliver the final answer after gathering information.\\nDo not respond without using this tool.\\n\\nParameters:\\n- answer (str): Complete, well-formatted response to the user\\'s question\\n- tools_used (list): Names of all tools used during research\\n\\nExample:\\nfinal_answer(\\n    answer=\"Dr. Bent is a professor in the AIPI program...\", \\n    tools_used=[\"get_AIPI_details\", \"rate_my_professor_info\"]\\n)']\n"
     ]
    }
   ],
   "source": [
    "# Show me something like:\n",
    "print([tool.name for tool in available_tools])\n",
    "print([tool.description for tool in available_tools])"
   ]
  },
  {
   "cell_type": "code",
   "execution_count": null,
   "id": "dba81532",
   "metadata": {},
   "outputs": [
    {
     "name": "stdout",
     "output_type": "stream",
     "text": [
      "\n",
      "\n",
      "\u001b[1m> Entering new AgentExecutor chain...\u001b[0m\n",
      "\u001b[32;1m\u001b[1;3m\n",
      "Invoking: `get_AIPI_details` with `{'query': 'Brinnae Bent'}`\n",
      "\n",
      "\n",
      "\u001b[0m\n",
      "=== Testing with ChatGPT ===\n",
      "\n",
      "=== Retrieved Context Files ===\n",
      "1. Brinnae Bent _ Duke Engineering Master's Programs.txt (relevance: 0.612)\n",
      "2. News & Events _ AI _ Duke Engineering Master's Programs.txt (relevance: 0.410)\n",
      "3. You searched for  _ Duke Engineering Master's Programs.txt (relevance: 0.399)\n",
      "\u001b[33;1m\u001b[1;3mBrinnae Bent is the Executive in Residence in the Engineering Graduate and Professional Programs at Duke University.\u001b[0m\u001b[32;1m\u001b[1;3m\n",
      "Invoking: `rate_my_professor_info` with `{'professor_query': 'Brinnae Bent'}`\n",
      "\n",
      "\n",
      "\u001b[0m\u001b[36;1m\u001b[1;3m{'name': 'Brenda Baletti', 'department': 'Writing', 'rating': '3.5', 'would_take_again': '63%', 'num_ratings': '37'}\u001b[0m\u001b[32;1m\u001b[1;3m\n",
      "Invoking: `get_AIPI_details` with `{'query': 'Brinnae Bent'}`\n",
      "\n",
      "\n",
      "\u001b[0m\n",
      "=== Testing with ChatGPT ===\n",
      "\n",
      "=== Retrieved Context Files ===\n",
      "1. Brinnae Bent _ Duke Engineering Master's Programs.txt (relevance: 0.612)\n",
      "2. News & Events _ AI _ Duke Engineering Master's Programs.txt (relevance: 0.410)\n",
      "3. You searched for  _ Duke Engineering Master's Programs.txt (relevance: 0.399)\n",
      "\u001b[33;1m\u001b[1;3mBrinnae Bent is an Executive in Residence at Duke University, involved in the Engineering Graduate and Professional Programs. She focuses on bridging the gap between research and industry in machine learning, leading projects, and developing impactful algorithms. Bent has contributed to several publications on topics ranging from machine learning applications to wearable health technologies. She teaches courses like IDS 793: Independent Study, AIPI 591: Special Readings in AI for Product Innovation, and others related to AI and data sourcing. Bent holds a Ph.D. from Duke University.\u001b[0m\u001b[32;1m\u001b[1;3m\n",
      "Invoking: `rate_my_professor_info` with `{'professor_query': 'Brinnae Bent'}`\n",
      "\n",
      "\n",
      "\u001b[0m\u001b[36;1m\u001b[1;3m{'name': 'Brenda Baletti', 'department': 'Writing', 'rating': '3.5', 'would_take_again': '63%', 'num_ratings': '37'}\u001b[0m\u001b[32;1m\u001b[1;3m\u001b[0m\n",
      "\n",
      "\u001b[1m> Finished chain.\u001b[0m\n",
      "Result: {'input': 'Tell me about Brinnae Bent from the AIPI program in detail.', 'output': 'Agent stopped due to max iterations.'}\n"
     ]
    }
   ],
   "source": [
    "from langchain.agents import create_react_agent, AgentExecutor\n",
    "from langchain.chat_models import init_chat_model\n",
    "from tools.finalTools import tools as available_tools\n",
    "from langchain_core.prompts import ChatPromptTemplate, MessagesPlaceholder\n",
    "from langchain_openai import ChatOpenAI\n",
    "# Option 1: Custom prompt with required variables\n",
    "system_prompt = \"\"\"You are a helpful assistant for Duke University.  \n",
    "You answer questions about Duke's programs, courses, professors, events, and related information using the tools provided.  \n",
    "Be thorough, polite, and accurate. If something is unclear, ask follow-up questions to get more context.  \n",
    "\n",
    "CRITICAL: When using tools, NEVER use function call syntax like tool_name(\"parameter\"). \n",
    "Always use this exact format:\n",
    "Action: tool_name\n",
    "Action Input: parameter_value\n",
    "\n",
    "You have access to the following tools:\n",
    "{tools}\n",
    "\n",
    "Use the following format:\n",
    "\n",
    "Question: the input question you must answer\n",
    "Thought: you should always think about what to do\n",
    "Action: the action to take, should be one of [{tool_names}]\n",
    "Action Input: the input to the action\n",
    "Observation: the result of the action\n",
    "... (this Thought/Action/Action Input/Observation can repeat N times)\n",
    "Thought: I now know the final answer\n",
    "Final Answer: the final answer to the original input question\n",
    "\n",
    "EXAMPLES OF CORRECT TOOL USAGE:\n",
    "✅ CORRECT:\n",
    "Action: get_AIPI_details\n",
    "Action Input: Brinnae Bent\n",
    "\n",
    "Action: web_search\n",
    "Action Input: Brinnae Bent AIPI Duke University\n",
    "\n",
    "❌ WRONG - DO NOT DO THIS:\n",
    "Action: get_AIPI_details(\"Brinnae Bent\")\n",
    "Action: web_search(\"Brinnae Bent AIPI Duke University\")\n",
    "\n",
    "────────────────────────────────────────\n",
    "GUIDELINES\n",
    "────────────────────────────────────────\n",
    "1. **Vague / underspecified queries → ask follow-ups.**  \n",
    "   E.g. if someone asks \"Who is Dr. Smith?\" first clarify their department or program before calling a professor tool.\n",
    "\n",
    "2. **Use tools only when needed.** Think through the query: Is it about a **program, course, professor, or event?** Select the best tool. Avoid guesses.\n",
    "\n",
    "3. **Avoid inaccurate tool calls.** If no exact match exists, say you couldn't find it and ask for clarification instead of returning wrong info.\n",
    "\n",
    "4. **Professor questions:** try to learn their department (AIPI, MEM, etc.) before selecting a tool because some faculty appear only in specific databases.\n",
    "\n",
    "5. **Web search as fallback.**  \n",
    "   • Use the `web_search` tool for Duke-related queries that don't fit the other tools **or** when your other-tool results are insufficient.  \n",
    "   • If web search also fails, you may rely on background knowledge.\n",
    "\n",
    "6. **Scope restriction.** You are **not** allowed to answer non-Duke questions. Politely refuse and state you only handle Duke-related queries.\n",
    "\n",
    "7. **Safety & ethics.** Follow safe, ethical practices at all times.\n",
    "\n",
    "8. **Citations.** Provide links, references, or inline citations when relevant.\n",
    "\n",
    "9. **Mandatory course rule.** When asked about the **Artificial Intelligence for Product Innovation (AIPI)** course, you **must** call `get_courses` during planning.\n",
    "\n",
    "10. **Pratt information rule.**  \n",
    "    Use the `pratt_search` tool to obtain general Pratt School of Engineering information.\n",
    "\n",
    "11. Be concise when appropriate, but write long, elaborate answers when more detail is helpful.\n",
    "\n",
    "Begin!\n",
    "\n",
    "Question: {input}\n",
    "Thought:{agent_scratchpad}\"\"\"\n",
    "\n",
    "# Updated prompt with correct tool usage and final_answer requirement\n",
    "system_prompt = \"\"\"You are a helpful assistant for Duke University.  \n",
    "You answer questions about Duke's programs, courses, professors, events, and related information using the tools provided.  \n",
    "\n",
    "CRITICAL TOOL USAGE RULES:\n",
    "1. NEVER use function call syntax like tool_name(\"parameter\")\n",
    "2. Always use this EXACT format:\n",
    "   Action: tool_name\n",
    "   Action Input: parameter_value\n",
    "3. You MUST end every conversation by calling the final_answer tool\n",
    "\n",
    "Available tools: {tools}\n",
    "Tool names: {tool_names}\n",
    "\n",
    "STEP-BY-STEP PROCESS:\n",
    "1. Think about what information you need\n",
    "2. Use the appropriate specialized tools to gather information\n",
    "3. If you need more info, use additional tools\n",
    "4. When you have sufficient information, call final_answer with your complete response\n",
    "\n",
    "For AIPI program queries (like Brinnae Bent):\n",
    "- Use get_AIPI_details first for program/faculty info\n",
    "- Use rate_my_professor_info for student ratings if relevant\n",
    "- Use web_search as fallback if needed\n",
    "- Always end with final_answer\n",
    "\n",
    "CORRECT EXAMPLES:\n",
    "✅ Action: get_AIPI_details\n",
    "   Action Input: Brinnae Bent\n",
    "\n",
    "✅ Action: rate_my_professor_info  \n",
    "   Action Input: Brinnae Bent\n",
    "\n",
    "✅ Action: final_answer\n",
    "   Action Input: {\"answer\": \"Dr. Brinnae Bent is...\", \"tools_used\": [\"get_AIPI_details\"]}\n",
    "\n",
    "❌ WRONG - DO NOT DO THIS:\n",
    "   Action: get_AIPI_details(\"Brinnae Bent\")\n",
    "   Action: web_search(\"query\")\n",
    "\n",
    "Use the following format:\n",
    "\n",
    "Question: the input question you must answer\n",
    "Thought: you should always think about what to do\n",
    "Action: the action to take, should be one of [{tool_names}]\n",
    "Action Input: the input to the action\n",
    "Observation: the result of the action\n",
    "... (this Thought/Action/Action Input/Observation can repeat N times)\n",
    "Thought: I now have enough information to answer\n",
    "Action: final_answer\n",
    "Action Input: {{\"answer\": \"your complete response\", \"tools_used\": [\"list\", \"of\", \"tools\"]}}\n",
    "\n",
    "Begin!\n",
    "\n",
    "Question: {input}\n",
    "Thought:{agent_scratchpad}\"\"\"\n",
    "\n",
    "llm = ChatOpenAI(model='gpt-4o-mini')\n",
    "tools = available_tools\n",
    "\n",
    "agent = create_tool_calling_agent(prompt=prompt, llm=llm, tools=available_tools)\n",
    "agent_executor = AgentExecutor(\n",
    "    agent=agent, \n",
    "    tools=available_tools, \n",
    "    verbose=True, \n",
    "    handle_parsing_errors=True, \n",
    "    max_iterations=3  # Increased from 3 for complex queries\n",
    ")\n",
    "\n",
    "# Test the agent\n",
    "try:\n",
    "    result = agent_executor.invoke({\n",
    "        \"input\": \"Tell me about Brinnae Bent from the AIPI program in detail.\"\n",
    "    })\n",
    "    print(\"Result:\", result)\n",
    "except Exception as e:\n",
    "    print(f\"Error occurred: {e}\")"
   ]
  },
  {
   "cell_type": "code",
   "execution_count": null,
   "id": "7c626182",
   "metadata": {},
   "outputs": [
    {
     "data": {
      "text/plain": [
       "[StructuredTool(name='get_current_date', description='**DATE TOOL**: Get current date and time information for Duke University context.\\n\\n**Use when:** Query mentions:\\n- \"today\", \"now\", \"current date/time\"\\n- \"this week\", \"this semester\", \"academic year\"\\n- \"what day is it\", \"when is it now\"\\n- Academic calendar context needed\\n\\nReturns: Current date, time, academic year, semester estimation\\n\\nExample: \"What\\'s today\\'s date?\" or \"What semester are we in now?\"', args_schema=<class 'langchain_core.utils.pydantic.get_current_date'>, func=<function get_current_date at 0x10761ec00>),\n",
       " StructuredTool(name='mem_search', description='**PRIMARY TOOL** for Master of Engineering Management (MEM) program information.\\n\\nUse this FIRST for any MEM-related queries before trying other tools.\\n\\nCovers:\\n- MEM program structure, curriculum, specializations\\n- MEM admissions requirements and process\\n- MEM-specific faculty and courses\\n- MEM career outcomes and industry connections\\n\\n**Use when:** Query mentions \"MEM\", \"Master of Engineering Management\", or \"engineering management\"\\n**Don\\'t use for:** General Pratt info, AIPI program, or non-MEM engineering programs\\n\\nExample: \"What specializations does the MEM program offer?\"', args_schema=<class 'langchain_core.utils.pydantic.mem_search'>, func=<function mem_search at 0x10769f380>),\n",
       " StructuredTool(name='pratt_search', description='**GENERAL TOOL** for Pratt School of Engineering information (excluding MEM/AIPI specifics).\\n\\nUse for:\\n- Overview of ALL Pratt engineering programs (MEng, MS, PhD)\\n- General Pratt admissions, policies, facilities\\n- Cross-program information and comparisons\\n- Pratt-wide events, research centers, initiatives\\n\\n**Use when:** Query is about Pratt generally or non-MEM/AIPI engineering programs\\n**Don\\'t use for:** MEM-specific details (use mem_search) or AIPI-specific details (use get_AIPI_details)\\n\\nExample: \"What engineering master\\'s programs does Pratt offer?\"', args_schema=<class 'langchain_core.utils.pydantic.pratt_search'>, func=<function pratt_search at 0x10e4cd6c0>),\n",
       " StructuredTool(name='get_courses', description='**COURSE LISTING TOOL**: Get all available courses for a specific subject/department.\\n\\n**Required for AIPI queries**: Always use this when asked about AIPI courses or curriculum.\\n\\nCommon subjects: AIPI, ECE, ME, CEE, BME, CS, MATH, STA\\n\\n**Use when:** \\n- \"What courses are in [subject]?\"\\n- \"Show me AIPI curriculum\"\\n- Exploring course options for a department\\n\\n**Use before get_course_details**: Get the list first, then get specific course details\\n\\nExample: get_courses(\"AIPI\") for AIPI program courses', args_schema=<class 'langchain_core.utils.pydantic.get_courses'>, func=<function get_courses at 0x10e4cda80>),\n",
       " StructuredTool(name='get_course_details', description='**SPECIFIC COURSE TOOL**: Get detailed information about ONE specific course.\\n\\nParameters:\\n- subject: Department code (e.g., \"ECE\", \"AIPI\", \"CS\")\\n- course_identifier: Course number (e.g., \"590\") OR course title\\n\\nReturns: Description, instructor, prerequisites, schedule, credits\\n\\n**Use when:** User asks about a specific course by number or name\\n**Use after get_courses**: First get course list, then get specific details\\n\\nExample: get_course_details(\"ECE\", \"590\") or get_course_details(\"AIPI\", \"Machine Learning\")', args_schema=<class 'langchain_core.utils.pydantic.get_course_details'>, func=<function get_course_details at 0x10e4cd940>),\n",
       " StructuredTool(name='get_events', description=\"**EVENTS TOOL**: Uses GPT to extract filters from a user's query,\\nthen fetches events from the Duke API, and finally uses GPT again to summarize the relevant events.\\n\\nReturns a natural language summary of filtered events.\", args_schema=<class 'langchain_core.utils.pydantic.get_events'>, func=<function get_events at 0x10e4ce480>),\n",
       " StructuredTool(name='rate_my_professor_info', description='**PROFESSOR RATINGS TOOL**: Get student ratings and reviews from RateMyProfessors.\\n\\n**Use when:** User asks about:\\n- Professor ratings, reviews, or student opinions\\n- Teaching quality, difficulty, or student feedback\\n- \"What do students think about [professor]?\"\\n\\n**Don\\'t use for:** \\n- Basic professor info (use appropriate program tool first)\\n- Research interests or academic background\\n\\n**Important**: Get professor\\'s full name from program tools first if needed\\n\\nExample: rate_my_professor_info(\"Brinnae Bent\")', args_schema=<class 'langchain_core.utils.pydantic.rate_my_professor_info'>, func=<function rate_my_professor_info at 0x10e4ce7a0>),\n",
       " StructuredTool(name='get_AIPI_details', description='**PRIMARY TOOL** for Artificial Intelligence for Product Innovation (AIPI) program.\\n\\n**Use this FIRST** for any AIPI-related queries before other tools.\\n\\nComprehensive coverage:\\n- AIPI program overview, curriculum structure\\n- AIPI admissions requirements and process  \\n- AIPI faculty profiles and research areas\\n- AIPI courses, projects, and career outcomes\\n\\n**Use when:** Query mentions \"AIPI\", \"Artificial Intelligence for Product Innovation\", or AI master\\'s program\\n**Also use get_courses(\"AIPI\")** for detailed course listings\\n\\nExample: \"Tell me about the AIPI program curriculum\"', args_schema=<class 'langchain_core.utils.pydantic.get_AIPI_details'>, func=<function get_AIPI_details at 0x10e4cdf80>),\n",
       " StructuredTool(name='web_search', description='**FALLBACK TOOL**: Search the web for Duke information not covered by specialized tools.\\n\\n**Use as LAST RESORT when:**\\n- Specialized tools don\\'t have sufficient information\\n- Query is about very recent developments or news\\n- Looking for student organizations, clubs, or activities\\n- Seeking information about policies not in databases\\n- Need current/real-time information\\n\\n**Don\\'t use first**: Always try relevant specialized tools before web search\\n\\nExample: \"What AI student clubs exist at Duke?\" (after other tools don\\'t provide this)', args_schema=<class 'langchain_core.utils.pydantic.web_search'>, func=<function web_search at 0x10e4cf920>),\n",
       " StructuredTool(name='final_answer', description='**REQUIRED FINAL STEP**: Provide the complete response to the user.\\n\\nThis tool MUST be called to deliver the final answer after gathering information.\\nDo not respond without using this tool.\\n\\nParameters:\\n- answer (str): Complete, well-formatted response to the user\\'s question\\n- tools_used (list): Names of all tools used during research\\n\\nExample:\\nfinal_answer(\\n    answer=\"Dr. Bent is a professor in the AIPI program...\", \\n    tools_used=[\"get_AIPI_details\", \"rate_my_professor_info\"]\\n)', args_schema=<class 'langchain_core.utils.pydantic.final_answer'>, func=<function final_answer at 0x10e4cf600>)]"
      ]
     },
     "execution_count": 35,
     "metadata": {},
     "output_type": "execute_result"
    }
   ],
   "source": [
    "tools"
   ]
  },
  {
   "cell_type": "code",
   "execution_count": null,
   "id": "a20a7bf1",
   "metadata": {},
   "outputs": [],
   "source": [
    "system_prompt = \"\"\"You are a helpful assistant for Duke University. You answer questions about Duke's programs, courses, professors, events, and related information using a set of tools. Be thorough, polite, and accurate. If something is unclear, ask follow-up questions to get more context.\n",
    "After using a tool the tool output will be provided in the 'scratchpad' below.\n",
    "\n",
    "Guidelines:\n",
    "1. **If a user query is vague or underspecified**, do not assume. Instead, ask follow-up questions. For example, if someone asks \"Who is Dr. Smith?\" ask what program or department they're in before calling a professor-related tool.\n",
    "2. **Use tools only when needed**. Think through the query: Is it about a program, course, professor, or event? Then pick the tool that best fits that need. If a name match seems fuzzy or incorrect, avoid responding with false confidence.\n",
    "3. **Avoid inaccurate tool calls**: For example, if a professor's name does not have an exact match, don't return information about someone with a similar name. Instead, say \"I couldn't find a match — could you clarify which program they're associated with?\"\n",
    "4. **For professor-related questions**, try to get their department or program (e.g., AIPI or MEM since you have tools for both) before selecting a tool. Some professors are only listed in specific databases. \n",
    "5. **Use the web search tool** as a fallback for Duke-related queries that don't fit neatly into any other tool (e.g., \"What is Dr. X researching currently?\" or \"What does Duke's housing policy look like?\") OR if the data you get back from the other tools is not helpful, instead of saying \"I dont know\" try to use the web search tool to answer the question. Incase web search doesn't work either, you can use your own knowledge to answer the question.\n",
    "6. You are **not** allowed to answer questions that are not related to Duke University. This is very important. If a user query is **not related to Duke University**, respond by saying it's out of scope and that you're here to help with Duke-related questions.\n",
    "7. Always follow safe and ethical practices when answering questions.\n",
    "8. Provide links, references, and citations when relevant.\n",
    "9. !!!!!!! When asked about the Artificial Intelligence for Product Innovation or AIPI course make sure to use the get_courses tool in your planning !!!!!!!!!\n",
    "10. Use \"pratt_search\" tool to get general information about Pratt School of Engineering and their programs please!.\n",
    "\n",
    "Be concise when appropriate, but offer long, elaborate answers when more detail would be helpful.\n",
    "\"\"\"\n",
    "\n",
    "\n",
    "#prompt = hub.pull(\"hwchase17/react\")\n",
    "\n",
    "# Modify the system prompt to include Duke-specific instructions\n",
    "prompt = base_prompt\n",
    "prompt.messages[0].prompt.template = duke_system_msg + \"\\n\\n\" + prompt.messages[0].prompt.template"
   ]
  },
  {
   "cell_type": "code",
   "execution_count": null,
   "id": "7253e851",
   "metadata": {},
   "outputs": [
    {
     "name": "stderr",
     "output_type": "stream",
     "text": [
      "/Users/aadi/Downloads/Personal/langchain-experimentation/.venv/lib/python3.12/site-packages/langsmith/client.py:272: LangSmithMissingAPIKeyWarning: API key must be provided when using hosted LangSmith API\n",
      "  warnings.warn(\n"
     ]
    },
    {
     "name": "stdout",
     "output_type": "stream",
     "text": [
      "Answer the following questions as best you can. You have access to the following tools:\n",
      "\n",
      "{tools}\n",
      "\n",
      "Use the following format:\n",
      "\n",
      "Question: the input question you must answer\n",
      "Thought: you should always think about what to do\n",
      "Action: the action to take, should be one of [{tool_names}]\n",
      "Action Input: the input to the action\n",
      "Observation: the result of the action\n",
      "... (this Thought/Action/Action Input/Observation can repeat N times)\n",
      "Thought: I now know the final answer\n",
      "Final Answer: the final answer to the original input question\n",
      "\n",
      "Begin!\n",
      "\n",
      "Question: {input}\n",
      "Thought:{agent_scratchpad}\n"
     ]
    }
   ],
   "source": [
    "from langchain.tools import tool\n",
    "from langchain import hub\n",
    "from langchain.agents import AgentExecutor, create_react_agent\n",
    "\n",
    "@tool\n",
    "def get_employee_id(name):\n",
    "  \"\"\"\n",
    "  To get employee id, it takes employee name as arguments\n",
    "  name(str): Name of the employee\n",
    "  \"\"\"\n",
    "  fake_employees = {\n",
    "    \"Alice\": \"E001\",\n",
    "    \"Bob\": \"E002\",\n",
    "    \"Charlie\": \"E003\",\n",
    "    \"Diana\": \"E004\",\n",
    "    \"Evan\": \"E005\",\n",
    "    \"Fiona\": \"E006\",\n",
    "    \"George\": \"E007\",\n",
    "    \"Hannah\": \"E008\",\n",
    "    \"Ian\": \"E009\",\n",
    "    \"Jasmine\": \"E010\"}\n",
    "  \n",
    "  return fake_employees.get(name,\"Employee not found\")\n",
    "\n",
    "@tool\n",
    "def get_employee_salary(employee_id):\n",
    "  \"\"\"\n",
    "  To get the salary of an employee, it takes employee_id as input and return salary\n",
    "  \"\"\"\n",
    "  employee_salaries = {\n",
    "    \"E001\": 56000,\n",
    "    \"E002\": 47000,\n",
    "    \"E003\": 52000,\n",
    "    \"E004\": 61000,\n",
    "    \"E005\": 45000,\n",
    "    \"E006\": 58000,\n",
    "    \"E007\": 49000,\n",
    "    \"E008\": 53000,\n",
    "    \"E009\": 50000,\n",
    "    \"E010\": 55000\n",
    "    }\n",
    "  \n",
    "  return employee_salaries.get(employee_id,\"Employee not found\")\n",
    "\n",
    "prompt = hub.pull(\"hwchase17/react\")\n",
    "\n",
    "print(prompt.template)"
   ]
  },
  {
   "cell_type": "code",
   "execution_count": null,
   "id": "2a1df9e7",
   "metadata": {},
   "outputs": [
    {
     "data": {
      "text/plain": [
       "[StructuredTool(name='get_employee_salary', description='To get the salary of an employee, it takes employee_id as input and return salary', args_schema=<class 'langchain_core.utils.pydantic.get_employee_salary'>, func=<function get_employee_salary at 0x11ec33ce0>),\n",
       " StructuredTool(name='get_employee_id', description='To get employee id, it takes employee name as arguments\\nname(str): Name of the employee', args_schema=<class 'langchain_core.utils.pydantic.get_employee_id'>, func=<function get_employee_id at 0x128afc7c0>)]"
      ]
     },
     "execution_count": 37,
     "metadata": {},
     "output_type": "execute_result"
    }
   ],
   "source": [
    "tools = [get_employee_salary, get_employee_id]\n",
    "tools"
   ]
  },
  {
   "cell_type": "code",
   "execution_count": null,
   "id": "080fbba2",
   "metadata": {},
   "outputs": [
    {
     "name": "stdout",
     "output_type": "stream",
     "text": [
      "\n",
      "\n",
      "\u001b[1m> Entering new AgentExecutor chain...\u001b[0m\n",
      "\u001b[32;1m\u001b[1;3mTo find the salary of Evan, I first need to retrieve Evan's employee ID. Therefore, I will use the `get_employee_id` function.\n",
      "\n",
      "Action: get_employee_id  \n",
      "Action Input: \"Evan\"  \u001b[0m\u001b[33;1m\u001b[1;3mE005\u001b[0m\u001b[32;1m\u001b[1;3mNow that I have Evan's employee ID (E005), I can retrieve his salary using the `get_employee_salary` function.\n",
      "\n",
      "Action: get_employee_salary  \n",
      "Action Input: \"E005\"  \u001b[0m\u001b[36;1m\u001b[1;3m45000\u001b[0m\u001b[32;1m\u001b[1;3mI now know the final answer.\n",
      "Final Answer: The salary of Evan is 45000.\u001b[0m\n",
      "\n",
      "\u001b[1m> Finished chain.\u001b[0m\n"
     ]
    },
    {
     "data": {
      "text/plain": [
       "{'input': 'What is the Salary of Evan?',\n",
       " 'output': 'The salary of Evan is 45000.'}"
      ]
     },
     "execution_count": 39,
     "metadata": {},
     "output_type": "execute_result"
    }
   ],
   "source": [
    "agent = create_react_agent(llm,tools,prompt)\n",
    "agent_executor = AgentExecutor(agent=agent,tools=tools,verbose=True)\n",
    "agent_executor.invoke({\"input\":\"What is the Salary of Evan?\"})"
   ]
  }
 ],
 "metadata": {
  "kernelspec": {
   "display_name": ".venv",
   "language": "python",
   "name": "python3"
  },
  "language_info": {
   "codemirror_mode": {
    "name": "ipython",
    "version": 3
   },
   "file_extension": ".py",
   "mimetype": "text/x-python",
   "name": "python",
   "nbconvert_exporter": "python",
   "pygments_lexer": "ipython3",
   "version": "3.12.9"
  }
 },
 "nbformat": 4,
 "nbformat_minor": 5
}
